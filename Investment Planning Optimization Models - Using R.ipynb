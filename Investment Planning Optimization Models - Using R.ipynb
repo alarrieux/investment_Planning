{
 "cells": [
  {
   "cell_type": "markdown",
   "metadata": {},
   "source": [
    "# Jupyter Notebook Investment Planning Optimization models using Linear Programming in R\n",
    "\n",
    "Description- Numerous opportunities are available to today's investor. In many of these situations Linear Programing can be used to select the optimal mix of opportunities that will maximize returns,In this second edition we walk through those scenarios \n",
    "\n",
    "Purpose: This notebook provides a template for solving optimization problems. It highlights how one can go about formulating the problem in order to use the functions within the lpsolve package to obtain a result that meets all of the given constraints\n",
    "\n",
    "In the first edition we walk through a series of problems that mainly dealt with sales and operations. The question then become can this same methodology be applied in other industries? The following example are the author's attempts at proving the breadth of use for Optimization Models. Let's first start with the below example\n",
    "\n",
    "\n",
    "  # Dependencies\n",
    "  \n",
    "  Load the package for model development\n",
    "  * lpSolve\n",
    "\n",
    "\n",
    "\n",
    "\n",
    "### BANK LOAN MODEL\n",
    "\n",
    "Bank One is in the process of devising a loan policy that involves a maximum of $12 million. The following table provides the pertinent data about available loans.\n"
   ]
  },
  {
   "cell_type": "code",
   "execution_count": 19,
   "metadata": {},
   "outputs": [
    {
     "name": "stdout",
     "output_type": "stream",
     "text": [
      "package 'lpSolve' successfully unpacked and MD5 sums checked\n"
     ]
    },
    {
     "name": "stderr",
     "output_type": "stream",
     "text": [
      "Warning message:\n",
      "\"cannot remove prior installation of package 'lpSolve'\""
     ]
    },
    {
     "name": "stdout",
     "output_type": "stream",
     "text": [
      "\n",
      "The downloaded binary packages are in\n",
      "\tC:\\Users\\alarrieux001\\AppData\\Local\\Temp\\RtmpeGCb6T\\downloaded_packages\n"
     ]
    },
    {
     "ename": "ERROR",
     "evalue": "Error in library(lpSolve): there is no package called 'lpSolve'\n",
     "output_type": "error",
     "traceback": [
      "Error in library(lpSolve): there is no package called 'lpSolve'\nTraceback:\n",
      "1. library(lpSolve)",
      "2. stop(txt, domain = NA)"
     ]
    }
   ],
   "source": [
    "#install.packages(\"lpsolve\")\n",
    "install.packages(\"lpSolve\",repos=\"http://cran.rstudio.com/\")\n",
    "library(lpSolve)"
   ]
  },
  {
   "cell_type": "code",
   "execution_count": null,
   "metadata": {},
   "outputs": [],
   "source": [
    "Loan_Table <- data.frame(\"Type of Loan\" = c(\"Personal\",\"Car\",\"Home\",\"Farm\",\"Commercial\"),\n",
    "                         \"Interest Rate\" =c(\".140\",\".130\",\".120\",\".125\",\".100\"),\n",
    "                          \"Bad Debt Ratio\"=c(\".10\",\".07\",\".03\",\".05\",\".02\"))\n",
    "\n",
    "Loan_Table"
   ]
  },
  {
   "cell_type": "markdown",
   "metadata": {},
   "source": [
    "#### Bad debts are unrecoverable and produce no interest revenue. Competition with other financial institutions dictates the allocation of at least 40% of the funds to farm and commercial loans. To assit the housing industry in the region, home loans must equal at least 50% of the personal, car, and home loans. As a business rule the bank limits the overall ratio of bad debts on all loans to at most 4%"
   ]
  },
  {
   "cell_type": "markdown",
   "metadata": {},
   "source": [
    "In order to build our mathematical model, the situation deals with determining the amount of loan in each category, thus leading to the following definitions of the variables:\n",
    "\n",
    "$x_{1}$ = Personal loans (in millions of dollars)\n",
    "\n",
    "$x_{2}$ = car loans\n",
    "\n",
    "$x_{3}$ = home loans\n",
    "\n",
    "$x_{4}$ = Farm loans\n",
    "\n",
    "$x_{5}$ = Commercial loans"
   ]
  },
  {
   "cell_type": "markdown",
   "metadata": {},
   "source": [
    "### The objective of the bank is to maximize net return, the difference between interest revenue, and lost bad debts. Interest revenue is accrued on loands in good standing. For example, when 10% of personal loans are lost to bad debt, the bank will receive interest on 90% of the loan - that is, it will receive 14% interest on .9$x_{1}$ of the original $x_{1}$. The same reasoning applies to the remaining four types of loans. Leading to the below\n",
    "\n",
    "\n",
    "Total Interest = .14(.9$x_{1}$) +  .13(.93$x_{2}$) + .12(.97$x_{3}$) + .125(.95$x_{4}$) + .1(.98$x_{5}$) \n",
    "\n",
    "Total Interest = .126$x_{1}$ + .1209$x_{2}$ + .1164$x_{3}$ + .11875$x_{4}$ + .098$x_{5}$"
   ]
  },
  {
   "cell_type": "markdown",
   "metadata": {},
   "source": [
    "We also have \n",
    "\n",
    "Bad Debt = .1$x_{1}$ + .07$x_{2}$ + .03$x_{3}$ + .05$x_{4}$ + .02$x_{5}$"
   ]
  },
  {
   "cell_type": "markdown",
   "metadata": {},
   "source": [
    "The objective function combines revenue and bad debt as:\n",
    "\n",
    "Maximize Z = Total Interest - Bad Debt\n",
    "\n",
    "Max(z) = .026$x_{1}$ + .0509$x_{2}$ + .1164$x_{3}$ + .05$x_{4}$ + .02$x_{5}$"
   ]
  },
  {
   "cell_type": "markdown",
   "metadata": {},
   "source": [
    "###### The problem has 5 constraints\n",
    "\n",
    "\n",
    "###### 1. Total funds should not exceed 12 million:\n",
    "\n",
    "$x_{1}$ +   $x_{2}$ +   $x_{3}$ +   $x_{4}$ +   $x_{5}$  <= 12\n",
    "\n",
    "\n",
    "###### 2. Farms and commercial loans equal at least 40% of all loans:\n",
    "Which can be written as either \n",
    "\n",
    "$x_{4}$ + $x_{5}$ >= .4($x_{1}$+$x_{2}$+$x_{3}$+$x_{4}$+$x_{5}$)\n",
    "\n",
    "or\n",
    "\n",
    "4($x_{1}$)+4($x_{2}$)+4($x_{3})$-6($x_{4}$)-6($x_{4}$) <= 0\n",
    "\n",
    "\n",
    "###### 3. Home loans should equal at least 50% of personal, car, and home loans:\n",
    "\n",
    "$x_{3}$ >= .5($x_{1}$ + $x_{2}$ + $x_{3}$)\n",
    "\n",
    "or\n",
    "\n",
    ".5$x_{1}$ + .5$x_{2}$ + .5$x_{3}$ <= 0\n",
    "\n",
    "###### 4. Bad debts should not exceed 4 % of all loans:\n",
    ".1$x_{1}$ + .7$x_{2}$ + .03$x_{3}$ + .05$x_{4}$ + .02$x_{5}$ >= .4($x_{1}$ + $x_{2}$ + $x_{3}$ + $x_{4}$ + $x_{5}$)\n",
    "\n",
    "or\n",
    "\n",
    ".06$x_{1}$ + .03$x_{2}$ - .01$x_{3}$ + .01$x_{4}$ - $x_{5}$ <= 0\n",
    "\n",
    "\n",
    "###### 5. Nonnegativity:\n",
    "$x_{1}$, $x_{2}$ ,$x_{3}$ ,$x_{4}$ ,$x_{5}$  >= 0\n"
   ]
  },
  {
   "cell_type": "markdown",
   "metadata": {},
   "source": [
    "A subtle assumption in the preceding formulation is that all loans are issued at approximately the same time. This allows us to ignore differences in the time value of the funds allocated to the different loans.\n",
    "\n"
   ]
  },
  {
   "cell_type": "code",
   "execution_count": 25,
   "metadata": {},
   "outputs": [],
   "source": [
    "#we should have the lpsolve package install and loaded if now please include the below\n",
    "#install.packages(\"lpSolve\",repos=\"http://cran.rstudio.com/\")\n",
    "#library(lpSolve)\n",
    "#Maximize Z = Total Interest - Bad Debt\n",
    "objective.in <- c(.026,0.0509,.0864,.06875,.078)\n",
    "\n"
   ]
  },
  {
   "cell_type": "code",
   "execution_count": 26,
   "metadata": {},
   "outputs": [],
   "source": [
    "const.mat <- matrix(c(1,1,1,1,1,.4,.4,.4,-.6,-.6,.5,.5,-.5,0,0,.06,.03,-.01,.01,-.02,1,1,1,1,1),ncol=5, byrow=TRUE)"
   ]
  },
  {
   "cell_type": "code",
   "execution_count": 27,
   "metadata": {},
   "outputs": [],
   "source": [
    "condir <- c(\"<=\",\"<=\",\"<=\",\"<=\",\">=\")"
   ]
  },
  {
   "cell_type": "code",
   "execution_count": 28,
   "metadata": {},
   "outputs": [],
   "source": [
    "conrhs <- c(12000000,0,0,0,0)"
   ]
  },
  {
   "cell_type": "code",
   "execution_count": 29,
   "metadata": {},
   "outputs": [],
   "source": [
    "prod.sol <- lpSolve::lp(direction='max',objective.in,const.mat,condir,conrhs,compute.sen= TRUE)"
   ]
  },
  {
   "cell_type": "code",
   "execution_count": 30,
   "metadata": {},
   "outputs": [
    {
     "data": {
      "text/plain": [
       "Success: the objective function is 996480 "
      ]
     },
     "metadata": {},
     "output_type": "display_data"
    }
   ],
   "source": [
    "prod.sol"
   ]
  },
  {
   "cell_type": "code",
   "execution_count": 31,
   "metadata": {},
   "outputs": [
    {
     "data": {
      "text/html": [
       "<ol class=list-inline>\n",
       "\t<li>0</li>\n",
       "\t<li>0</li>\n",
       "\t<li>7200000</li>\n",
       "\t<li>0</li>\n",
       "\t<li>4800000</li>\n",
       "</ol>\n"
      ],
      "text/latex": [
       "\\begin{enumerate*}\n",
       "\\item 0\n",
       "\\item 0\n",
       "\\item 7200000\n",
       "\\item 0\n",
       "\\item 4800000\n",
       "\\end{enumerate*}\n"
      ],
      "text/markdown": [
       "1. 0\n",
       "2. 0\n",
       "3. 7200000\n",
       "4. 0\n",
       "5. 4800000\n",
       "\n",
       "\n"
      ],
      "text/plain": [
       "[1]       0       0 7200000       0 4800000"
      ]
     },
     "metadata": {},
     "output_type": "display_data"
    }
   ],
   "source": [
    "prod.sol$solution"
   ]
  },
  {
   "cell_type": "markdown",
   "metadata": {},
   "source": [
    "# Remarks\n",
    "\n",
    "While the answer is the recommended allocation of the funds, note that removing some contraints would lead to a different answer. For example the optimal solution calls for the allocation of the 12 million: 7.2 million to home loans and 4.8 million to commercial loans. The remaining categories receive non. The return on investment then becomes\n",
    "\n",
    "Rate of return = Z/12 = .99648/12 = .0834\n",
    "\n",
    "The above of .0834 is less than the best net interest rate = 8.64% for home loans. The question one may wonder is why the model did not take full advantage of this opportunity. The answer is that the stipulation that farm and commercial must account for at least 40% of all loans( constraint 2) forces the solution to allocate 4.8 million to commercial loans at the lower net rate of 7.8%, lowering the overall interest rate"
   ]
  },
  {
   "cell_type": "markdown",
   "metadata": {},
   "source": [
    " "
   ]
  },
  {
   "cell_type": "markdown",
   "metadata": {},
   "source": [
    "### The second problem we will take a look at is a manufacturer looking to take advantage of fluctuation in manufacturing cost.\n",
    "\n",
    "### Multiple Period Production- Inventory Model\n",
    "\n",
    "\n",
    "ACME Manufacturing Company has a contract to delivery 100, 250, 190, 140, 220, 110 home windows over the next 6 months. Production Cost ( Labor, Material, and Utilities) per window varies by period and is estimated to be $50, $45, $55, $48, $52, and $50 over the next 6 months. To take advantage of the fluctuations in manufacturing cost, Acme can produce more windows than needed in a given month and hold the extra units for delivery in later months. This will incur storage cost at the rate of $8 per window per month, assessed on end-of-month inventory. We will developa linear program to determine the optimum production schedule.\n"
   ]
  },
  {
   "cell_type": "markdown",
   "metadata": {},
   "source": [
    "The variables of the problem include the monthly production amount and the end-of- month inventory. For ${i}$ = 1,2...6 let\n",
    "\n",
    "$X_{i}$ = Number of Units produced in month ${i}$\n",
    "\n",
    "$I_{i}$ = Inventory units left at the end of month ${i}$"
   ]
  },
  {
   "cell_type": "markdown",
   "metadata": {},
   "source": [
    "Total Production Cost = 50$x_{1}$+45$x_{2}$+55$x_{3}$+48$x_{4}$+52$x_{5}$+50$x_{6}$"
   ]
  },
  {
   "cell_type": "markdown",
   "metadata": {},
   "source": [
    "Total Inventory(Storage) Cost =8($I_{1}$+$I_{2}$+$I_{3}$+$I_{4}$+$I_{5}$+$I_{6}$)"
   ]
  },
  {
   "cell_type": "markdown",
   "metadata": {},
   "source": [
    "###### The objective function then becomes:\n",
    "\n",
    "###### Minimize Z = 50$x_{1}$+45$x_{2}$+55$x_{3}$+48$x_{4}$+52$x_{5}$+50$x_{6}$+8($I_{1}$+$I_{2}$+$I_{3}$+$I_{4}$+$I_{5}$+$I_{6}$)"
   ]
  },
  {
   "cell_type": "markdown",
   "metadata": {},
   "source": [
    "The constraints of the problem can be represented as \n",
    "\n",
    "Beginning inventory + Production amount - Ending inventory = Demand\n",
    "\n",
    "This is translated mathematically for the individuals months as \n",
    "\n",
    "$x_{1}$ - $I_{1}$ = 100 (Month 1)\n",
    "\n",
    "$I_{1}$+ $x_{2}$ - $I_{2}$  = 250 (Month 2)\n",
    "\n",
    "$I_{2}$+ $x_{3}$ - $I_{3}$  = 190 (Month 3)\n",
    "\n",
    "$I_{3}$+ $x_{4}$ - $I_{4}$ = 140 (Month 4)\n",
    "\n",
    "$I_{4}$+ $x_{5}$ - $I_{5}$ = 220 (Month 5)\n",
    "\n",
    "$I_{5}$ + $x_{6}$ = 110 (Month 6)\n",
    "\n"
   ]
  },
  {
   "cell_type": "code",
   "execution_count": 66,
   "metadata": {},
   "outputs": [],
   "source": [
    "objective.in = c(50,45,55,48,52,50,8,8,8,8,8,8)\n",
    "\n"
   ]
  },
  {
   "cell_type": "code",
   "execution_count": 67,
   "metadata": {},
   "outputs": [],
   "source": [
    "const.mat = matrix(c(1,0,0,0,0,0,-1,0,0,0,0,0,\n",
    "              0,1,0,0,0,0,1,-1,0,0,0,0,\n",
    "              0,0,1,0,0,0,0,1,-1,0,0,0,\n",
    "              0,0,0,1,0,0,0,0,1,-1,0,0,\n",
    "              0,0,0,0,1,0,0,0,0,1,-1,0,\n",
    "              0,0,0,0,0,1,0,0,0,0,1,0), ncol = 12, byrow = TRUE)"
   ]
  },
  {
   "cell_type": "code",
   "execution_count": 68,
   "metadata": {},
   "outputs": [
    {
     "data": {
      "text/html": [
       "<table>\n",
       "<tbody>\n",
       "\t<tr><td>1 </td><td>0 </td><td>0 </td><td>0 </td><td>0 </td><td>0 </td><td>-1</td><td> 0</td><td> 0</td><td> 0</td><td> 0</td><td>0 </td></tr>\n",
       "\t<tr><td>0 </td><td>1 </td><td>0 </td><td>0 </td><td>0 </td><td>0 </td><td> 1</td><td>-1</td><td> 0</td><td> 0</td><td> 0</td><td>0 </td></tr>\n",
       "\t<tr><td>0 </td><td>0 </td><td>1 </td><td>0 </td><td>0 </td><td>0 </td><td> 0</td><td> 1</td><td>-1</td><td> 0</td><td> 0</td><td>0 </td></tr>\n",
       "\t<tr><td>0 </td><td>0 </td><td>0 </td><td>1 </td><td>0 </td><td>0 </td><td> 0</td><td> 0</td><td> 1</td><td>-1</td><td> 0</td><td>0 </td></tr>\n",
       "\t<tr><td>0 </td><td>0 </td><td>0 </td><td>0 </td><td>1 </td><td>0 </td><td> 0</td><td> 0</td><td> 0</td><td> 1</td><td>-1</td><td>0 </td></tr>\n",
       "\t<tr><td>0 </td><td>0 </td><td>0 </td><td>0 </td><td>0 </td><td>1 </td><td> 0</td><td> 0</td><td> 0</td><td> 0</td><td> 1</td><td>0 </td></tr>\n",
       "</tbody>\n",
       "</table>\n"
      ],
      "text/latex": [
       "\\begin{tabular}{llllllllllll}\n",
       "\t 1  & 0  & 0  & 0  & 0  & 0  & -1 &  0 &  0 &  0 &  0 & 0 \\\\\n",
       "\t 0  & 1  & 0  & 0  & 0  & 0  &  1 & -1 &  0 &  0 &  0 & 0 \\\\\n",
       "\t 0  & 0  & 1  & 0  & 0  & 0  &  0 &  1 & -1 &  0 &  0 & 0 \\\\\n",
       "\t 0  & 0  & 0  & 1  & 0  & 0  &  0 &  0 &  1 & -1 &  0 & 0 \\\\\n",
       "\t 0  & 0  & 0  & 0  & 1  & 0  &  0 &  0 &  0 &  1 & -1 & 0 \\\\\n",
       "\t 0  & 0  & 0  & 0  & 0  & 1  &  0 &  0 &  0 &  0 &  1 & 0 \\\\\n",
       "\\end{tabular}\n"
      ],
      "text/markdown": [
       "\n",
       "| 1  | 0  | 0  | 0  | 0  | 0  | -1 |  0 |  0 |  0 |  0 | 0  | \n",
       "| 0  | 1  | 0  | 0  | 0  | 0  |  1 | -1 |  0 |  0 |  0 | 0  | \n",
       "| 0  | 0  | 1  | 0  | 0  | 0  |  0 |  1 | -1 |  0 |  0 | 0  | \n",
       "| 0  | 0  | 0  | 1  | 0  | 0  |  0 |  0 |  1 | -1 |  0 | 0  | \n",
       "| 0  | 0  | 0  | 0  | 1  | 0  |  0 |  0 |  0 |  1 | -1 | 0  | \n",
       "| 0  | 0  | 0  | 0  | 0  | 1  |  0 |  0 |  0 |  0 |  1 | 0  | \n",
       "\n",
       "\n"
      ],
      "text/plain": [
       "     [,1] [,2] [,3] [,4] [,5] [,6] [,7] [,8] [,9] [,10] [,11] [,12]\n",
       "[1,] 1    0    0    0    0    0    -1    0    0    0     0    0    \n",
       "[2,] 0    1    0    0    0    0     1   -1    0    0     0    0    \n",
       "[3,] 0    0    1    0    0    0     0    1   -1    0     0    0    \n",
       "[4,] 0    0    0    1    0    0     0    0    1   -1     0    0    \n",
       "[5,] 0    0    0    0    1    0     0    0    0    1    -1    0    \n",
       "[6,] 0    0    0    0    0    1     0    0    0    0     1    0    "
      ]
     },
     "metadata": {},
     "output_type": "display_data"
    }
   ],
   "source": [
    "const.mat"
   ]
  },
  {
   "cell_type": "code",
   "execution_count": 69,
   "metadata": {},
   "outputs": [],
   "source": [
    "condir = c(\"=\",\"=\",\"=\",\"=\",\"=\",\"=\")"
   ]
  },
  {
   "cell_type": "code",
   "execution_count": 70,
   "metadata": {},
   "outputs": [],
   "source": [
    "conrhs =c(100,250,190,140,220,110)"
   ]
  },
  {
   "cell_type": "code",
   "execution_count": 71,
   "metadata": {},
   "outputs": [],
   "source": [
    "prod.sol <- lpSolve::lp(direction='min',objective.in,const.mat,condir,conrhs,compute.sen= TRUE)"
   ]
  },
  {
   "cell_type": "code",
   "execution_count": 72,
   "metadata": {},
   "outputs": [
    {
     "data": {
      "text/plain": [
       "Success: the objective function is 49980 "
      ]
     },
     "metadata": {},
     "output_type": "display_data"
    }
   ],
   "source": [
    "prod.sol"
   ]
  },
  {
   "cell_type": "code",
   "execution_count": 73,
   "metadata": {},
   "outputs": [
    {
     "data": {
      "text/html": [
       "<ol class=list-inline>\n",
       "\t<li>100</li>\n",
       "\t<li>440</li>\n",
       "\t<li>0</li>\n",
       "\t<li>140</li>\n",
       "\t<li>220</li>\n",
       "\t<li>110</li>\n",
       "\t<li>0</li>\n",
       "\t<li>190</li>\n",
       "\t<li>0</li>\n",
       "\t<li>0</li>\n",
       "\t<li>0</li>\n",
       "\t<li>0</li>\n",
       "</ol>\n"
      ],
      "text/latex": [
       "\\begin{enumerate*}\n",
       "\\item 100\n",
       "\\item 440\n",
       "\\item 0\n",
       "\\item 140\n",
       "\\item 220\n",
       "\\item 110\n",
       "\\item 0\n",
       "\\item 190\n",
       "\\item 0\n",
       "\\item 0\n",
       "\\item 0\n",
       "\\item 0\n",
       "\\end{enumerate*}\n"
      ],
      "text/markdown": [
       "1. 100\n",
       "2. 440\n",
       "3. 0\n",
       "4. 140\n",
       "5. 220\n",
       "6. 110\n",
       "7. 0\n",
       "8. 190\n",
       "9. 0\n",
       "10. 0\n",
       "11. 0\n",
       "12. 0\n",
       "\n",
       "\n"
      ],
      "text/plain": [
       " [1] 100 440   0 140 220 110   0 190   0   0   0   0"
      ]
     },
     "metadata": {},
     "output_type": "display_data"
    }
   ],
   "source": [
    "prod.sol$solution"
   ]
  },
  {
   "cell_type": "code",
   "execution_count": 89,
   "metadata": {},
   "outputs": [],
   "source": [
    "Timeline <- data.frame( \n",
    "        Produced= c(100,440,0,140,220,110),\n",
    "        Carryover = c(0,190,0,0,0,0)\n",
    "    )\n"
   ]
  },
  {
   "cell_type": "code",
   "execution_count": 90,
   "metadata": {},
   "outputs": [
    {
     "data": {
      "text/html": [
       "<table>\n",
       "<thead><tr><th scope=col>x</th><th scope=col>i</th></tr></thead>\n",
       "<tbody>\n",
       "\t<tr><td>100</td><td>  0</td></tr>\n",
       "\t<tr><td>440</td><td>190</td></tr>\n",
       "\t<tr><td>  0</td><td>  0</td></tr>\n",
       "\t<tr><td>140</td><td>  0</td></tr>\n",
       "\t<tr><td>220</td><td>  0</td></tr>\n",
       "\t<tr><td>110</td><td>  0</td></tr>\n",
       "</tbody>\n",
       "</table>\n"
      ],
      "text/latex": [
       "\\begin{tabular}{r|ll}\n",
       " x & i\\\\\n",
       "\\hline\n",
       "\t 100 &   0\\\\\n",
       "\t 440 & 190\\\\\n",
       "\t   0 &   0\\\\\n",
       "\t 140 &   0\\\\\n",
       "\t 220 &   0\\\\\n",
       "\t 110 &   0\\\\\n",
       "\\end{tabular}\n"
      ],
      "text/markdown": [
       "\n",
       "x | i | \n",
       "|---|---|---|---|---|---|\n",
       "| 100 |   0 | \n",
       "| 440 | 190 | \n",
       "|   0 |   0 | \n",
       "| 140 |   0 | \n",
       "| 220 |   0 | \n",
       "| 110 |   0 | \n",
       "\n",
       "\n"
      ],
      "text/plain": [
       "  x   i  \n",
       "1 100   0\n",
       "2 440 190\n",
       "3   0   0\n",
       "4 140   0\n",
       "5 220   0\n",
       "6 110   0"
      ]
     },
     "metadata": {},
     "output_type": "display_data"
    }
   ],
   "source": [
    "Timeline"
   ]
  },
  {
   "cell_type": "markdown",
   "metadata": {},
   "source": [
    "# Remarks\n",
    "\n",
    "The above recommends that, based on cost of production, it is more cost effective to overproduce in month two and carry over an additional 190 in order to meet the demand for month three. Note while this may be the recommended solution, your knowledge of the business should be used in order to make the end decision that provides the most benefit."
   ]
  },
  {
   "cell_type": "markdown",
   "metadata": {},
   "source": [
    "### Finally we look at an Oil refinery with the goal of determining the optimal mex of final products that will maximize profit.\n",
    "\n",
    "### Crude oil refining and gasoline blending.\n",
    "\n",
    "ABC Oil has a capacity of 1,500,000 bbl of crude oil per day. The final products from the refinery include three types of unleaded gasoline with different octane numbers (ON): \n",
    "        Regular = 87\n",
    "        Premium = 89\n",
    "        Super   = 92\n",
    "\n",
    "The refining process encompases three stages: \n",
    "1. A distilation tower that provides feedstock (ON=82) at the rate of .2 bbl per bbl of crude oil\n",
    "2. A cracker unit that produces gasoline (ON = 98) by using a portion of the feedstock produced from the distilation tower at the rate of .5 bbl per bbl of feedstock.\n",
    "3. A blender unit that blends the gasoline stock from the cracker unit and the feedstock from the distilation tower.\n",
    "\n",
    "The company estimates the net profit per barrel of the the three types to be:\n",
    "\n",
    "1. 87 = $6.70\n",
    "\n",
    "2. 89 = $7.20\n",
    "\n",
    "3. 92 = $8.10\n",
    "\n",
    "The input capacity is 200,000 bbl of feedstock per day. The demand limits for each are\n",
    "1. 87 = 50,000\n",
    "\n",
    "2. 89 = 30,000\n",
    "\n",
    "3. 92 = 40,000\n",
    "\n",
    "The objective function then becomes to maximize profits(z) = 6.70 $x_{11}$ + $x_{21}$)+7.20($x_{12}$ + $x_{22}$)+8.10($x_{13}$ + $x_{23}$)"
   ]
  },
  {
   "cell_type": "markdown",
   "metadata": {},
   "source": [
    "The constraints can be represented as \n",
    "\n",
    "5($x_{11}$ + $x_{12}$+ $x_{13}$) + 10($x_{21}$ + $x_{22}$ + $x_{23}$) <= 1,500,000\n",
    "\n",
    "2($x_{21}$ + $x_{22}$ + $x_{23}$) <= 200,000\n",
    "\n",
    "$x_{11}$ + $x_{21}$ <= 50,000\n",
    "\n",
    "$x_{12}$ + $x_{22}$ <= 30,000\n",
    "\n",
    "$x_{13}$ + $x_{23}$ <= 40,000\n",
    "\n",
    "5* $x_{11}$ - 11 * $x_{21}$ <= 0\n",
    "\n",
    "7* $x_{12}$ - 9 * $x_{22}$ <= 0\n",
    "\n",
    "10* $x_{12}$ - 6 * $x_{22}$ <= 0"
   ]
  },
  {
   "cell_type": "code",
   "execution_count": 1,
   "metadata": {},
   "outputs": [],
   "source": [
    "objective.in = c(6.7, 7.2, 8.1,6.7,7.2,8.1)"
   ]
  },
  {
   "cell_type": "code",
   "execution_count": 2,
   "metadata": {},
   "outputs": [],
   "source": [
    "const.mat = matrix(c(5,5,5,10,10,10,\n",
    "                     0,0,0,2,2,2,\n",
    "                     1,0,0,1,0,0,\n",
    "                     0,1,0,0,1,0,\n",
    "                     0,0,1,0,0,1,\n",
    "                     5,0,0,-11,0,0,\n",
    "                     0,7,0,0,-9,0,\n",
    "                     0,0,10,0,0,-6),ncol = 6, byrow = TRUE)"
   ]
  },
  {
   "cell_type": "code",
   "execution_count": 3,
   "metadata": {},
   "outputs": [],
   "source": [
    "condir = rep(\"<=\",8)"
   ]
  },
  {
   "cell_type": "code",
   "execution_count": 4,
   "metadata": {},
   "outputs": [],
   "source": [
    "conrhs = c(1500000,200000,50000,30000,40000,0,0,0)"
   ]
  },
  {
   "cell_type": "code",
   "execution_count": 5,
   "metadata": {},
   "outputs": [
    {
     "ename": "ERROR",
     "evalue": "Error in loadNamespace(name): there is no package called 'lpSolve'\n",
     "output_type": "error",
     "traceback": [
      "Error in loadNamespace(name): there is no package called 'lpSolve'\nTraceback:\n",
      "1. lpSolve::lp",
      "2. getExportedValue(pkg, name)",
      "3. asNamespace(ns)",
      "4. getNamespace(ns)",
      "5. tryCatch(loadNamespace(name), error = function(e) stop(e))",
      "6. tryCatchList(expr, classes, parentenv, handlers)",
      "7. tryCatchOne(expr, names, parentenv, handlers[[1L]])",
      "8. value[[3L]](cond)"
     ]
    }
   ],
   "source": [
    "prod.sol <- lpSolve::lp(direction='max',objective.in,const.mat,condir,conrhs,compute.sen= TRUE)"
   ]
  },
  {
   "cell_type": "code",
   "execution_count": 9,
   "metadata": {},
   "outputs": [
    {
     "data": {
      "text/plain": [
       "Success: the objective function is 875000 "
      ]
     },
     "metadata": {},
     "output_type": "display_data"
    }
   ],
   "source": [
    "prod.sol"
   ]
  },
  {
   "cell_type": "code",
   "execution_count": 10,
   "metadata": {},
   "outputs": [
    {
     "data": {
      "text/html": [
       "<ol class=list-inline>\n",
       "\t<li>34375</li>\n",
       "\t<li>16875</li>\n",
       "\t<li>15000</li>\n",
       "\t<li>15625</li>\n",
       "\t<li>13125</li>\n",
       "\t<li>25000</li>\n",
       "</ol>\n"
      ],
      "text/latex": [
       "\\begin{enumerate*}\n",
       "\\item 34375\n",
       "\\item 16875\n",
       "\\item 15000\n",
       "\\item 15625\n",
       "\\item 13125\n",
       "\\item 25000\n",
       "\\end{enumerate*}\n"
      ],
      "text/markdown": [
       "1. 34375\n",
       "2. 16875\n",
       "3. 15000\n",
       "4. 15625\n",
       "5. 13125\n",
       "6. 25000\n",
       "\n",
       "\n"
      ],
      "text/plain": [
       "[1] 34375 16875 15000 15625 13125 25000"
      ]
     },
     "metadata": {},
     "output_type": "display_data"
    }
   ],
   "source": [
    "prod.sol$solution"
   ]
  },
  {
   "cell_type": "code",
   "execution_count": 17,
   "metadata": {},
   "outputs": [],
   "source": [
    "solution_breakdown = data.frame(\n",
    "                     DailyProfit       = 87500,\n",
    "                    Daily.amount.Regular= 30000,\n",
    "                    Daily.amount.Premium= 30000,\n",
    "                    Daily.amount.Super   =40000)"
   ]
  },
  {
   "cell_type": "code",
   "execution_count": 18,
   "metadata": {},
   "outputs": [
    {
     "data": {
      "text/html": [
       "<table>\n",
       "<thead><tr><th scope=col>DailyProfit</th><th scope=col>Daily.amount.Regular</th><th scope=col>Daily.amount.Premium</th><th scope=col>Daily.amount.Super</th></tr></thead>\n",
       "<tbody>\n",
       "\t<tr><td>87500</td><td>30000</td><td>30000</td><td>40000</td></tr>\n",
       "</tbody>\n",
       "</table>\n"
      ],
      "text/latex": [
       "\\begin{tabular}{r|llll}\n",
       " DailyProfit & Daily.amount.Regular & Daily.amount.Premium & Daily.amount.Super\\\\\n",
       "\\hline\n",
       "\t 87500 & 30000 & 30000 & 40000\\\\\n",
       "\\end{tabular}\n"
      ],
      "text/markdown": [
       "\n",
       "DailyProfit | Daily.amount.Regular | Daily.amount.Premium | Daily.amount.Super | \n",
       "|---|\n",
       "| 87500 | 30000 | 30000 | 40000 | \n",
       "\n",
       "\n"
      ],
      "text/plain": [
       "  DailyProfit Daily.amount.Regular Daily.amount.Premium Daily.amount.Super\n",
       "1 87500       30000                30000                40000             "
      ]
     },
     "metadata": {},
     "output_type": "display_data"
    }
   ],
   "source": [
    "solution_breakdown"
   ]
  },
  {
   "cell_type": "markdown",
   "metadata": {},
   "source": [
    "###Congrats!! you've gone through another list of optimization problems. This time we focused on investment planning, especially in the current environment, reading Operational Research by TAHA made sense to illustrate them in the above format. Feel free to check out my previous version at https://lab.pwc.com/automation/details/12651"
   ]
  }
 ],
 "metadata": {
  "kernelspec": {
   "display_name": "R",
   "language": "R",
   "name": "ir"
  },
  "language_info": {
   "codemirror_mode": "r",
   "file_extension": ".r",
   "mimetype": "text/x-r-source",
   "name": "R",
   "pygments_lexer": "r",
   "version": "3.5.1"
  }
 },
 "nbformat": 4,
 "nbformat_minor": 2
}
